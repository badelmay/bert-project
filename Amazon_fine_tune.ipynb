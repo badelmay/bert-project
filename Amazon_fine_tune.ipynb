{
 "cells": [
  {
   "cell_type": "code",
   "execution_count": 1,
   "id": "1bc0b8e5-b863-47bb-9267-c170da4dbb8f",
   "metadata": {},
   "outputs": [
    {
     "name": "stdout",
     "output_type": "stream",
     "text": [
      "Collecting evaluate\n",
      "  Downloading evaluate-0.4.2-py3-none-any.whl.metadata (9.3 kB)\n",
      "Collecting datasets>=2.0.0 (from evaluate)\n",
      "  Downloading datasets-2.20.0-py3-none-any.whl.metadata (19 kB)\n",
      "Requirement already satisfied: numpy>=1.17 in c:\\users\\badel\\appdata\\local\\programs\\python\\python312\\lib\\site-packages (from evaluate) (1.26.4)\n",
      "Collecting dill (from evaluate)\n",
      "  Downloading dill-0.3.8-py3-none-any.whl.metadata (10 kB)\n",
      "Requirement already satisfied: pandas in c:\\users\\badel\\appdata\\local\\programs\\python\\python312\\lib\\site-packages (from evaluate) (2.1.4)\n",
      "Requirement already satisfied: requests>=2.19.0 in c:\\users\\badel\\appdata\\local\\programs\\python\\python312\\lib\\site-packages (from evaluate) (2.31.0)\n",
      "Requirement already satisfied: tqdm>=4.62.1 in c:\\users\\badel\\appdata\\local\\programs\\python\\python312\\lib\\site-packages (from evaluate) (4.66.4)\n",
      "Requirement already satisfied: xxhash in c:\\users\\badel\\appdata\\local\\programs\\python\\python312\\lib\\site-packages (from evaluate) (3.4.1)\n",
      "Collecting multiprocess (from evaluate)\n",
      "  Downloading multiprocess-0.70.16-py312-none-any.whl.metadata (7.2 kB)\n",
      "Requirement already satisfied: fsspec>=2021.05.0 in c:\\users\\badel\\appdata\\local\\programs\\python\\python312\\lib\\site-packages (from fsspec[http]>=2021.05.0->evaluate) (2024.3.1)\n",
      "Requirement already satisfied: huggingface-hub>=0.7.0 in c:\\users\\badel\\appdata\\local\\programs\\python\\python312\\lib\\site-packages (from evaluate) (0.23.0)\n",
      "Requirement already satisfied: packaging in c:\\users\\badel\\appdata\\roaming\\python\\python312\\site-packages (from evaluate) (24.0)\n",
      "Requirement already satisfied: filelock in c:\\users\\badel\\appdata\\local\\programs\\python\\python312\\lib\\site-packages (from datasets>=2.0.0->evaluate) (3.14.0)\n",
      "Collecting pyarrow>=15.0.0 (from datasets>=2.0.0->evaluate)\n",
      "  Downloading pyarrow-16.1.0-cp312-cp312-win_amd64.whl.metadata (3.1 kB)\n",
      "Collecting pyarrow-hotfix (from datasets>=2.0.0->evaluate)\n",
      "  Downloading pyarrow_hotfix-0.6-py3-none-any.whl.metadata (3.6 kB)\n",
      "Collecting requests>=2.19.0 (from evaluate)\n",
      "  Using cached requests-2.32.3-py3-none-any.whl.metadata (4.6 kB)\n",
      "Collecting aiohttp (from datasets>=2.0.0->evaluate)\n",
      "  Downloading aiohttp-3.9.5-cp312-cp312-win_amd64.whl.metadata (7.7 kB)\n",
      "Requirement already satisfied: pyyaml>=5.1 in c:\\users\\badel\\appdata\\local\\programs\\python\\python312\\lib\\site-packages (from datasets>=2.0.0->evaluate) (6.0.1)\n",
      "Requirement already satisfied: typing-extensions>=3.7.4.3 in c:\\users\\badel\\appdata\\local\\programs\\python\\python312\\lib\\site-packages (from huggingface-hub>=0.7.0->evaluate) (4.11.0)\n",
      "Requirement already satisfied: charset-normalizer<4,>=2 in c:\\users\\badel\\appdata\\local\\programs\\python\\python312\\lib\\site-packages (from requests>=2.19.0->evaluate) (3.3.2)\n",
      "Requirement already satisfied: idna<4,>=2.5 in c:\\users\\badel\\appdata\\local\\programs\\python\\python312\\lib\\site-packages (from requests>=2.19.0->evaluate) (3.7)\n",
      "Requirement already satisfied: urllib3<3,>=1.21.1 in c:\\users\\badel\\appdata\\local\\programs\\python\\python312\\lib\\site-packages (from requests>=2.19.0->evaluate) (2.2.1)\n",
      "Requirement already satisfied: certifi>=2017.4.17 in c:\\users\\badel\\appdata\\local\\programs\\python\\python312\\lib\\site-packages (from requests>=2.19.0->evaluate) (2024.2.2)\n",
      "Requirement already satisfied: colorama in c:\\users\\badel\\appdata\\roaming\\python\\python312\\site-packages (from tqdm>=4.62.1->evaluate) (0.4.6)\n",
      "Requirement already satisfied: python-dateutil>=2.8.2 in c:\\users\\badel\\appdata\\roaming\\python\\python312\\site-packages (from pandas->evaluate) (2.9.0.post0)\n",
      "Requirement already satisfied: pytz>=2020.1 in c:\\users\\badel\\appdata\\local\\programs\\python\\python312\\lib\\site-packages (from pandas->evaluate) (2024.1)\n",
      "Requirement already satisfied: tzdata>=2022.1 in c:\\users\\badel\\appdata\\local\\programs\\python\\python312\\lib\\site-packages (from pandas->evaluate) (2024.1)\n",
      "Collecting aiosignal>=1.1.2 (from aiohttp->datasets>=2.0.0->evaluate)\n",
      "  Downloading aiosignal-1.3.1-py3-none-any.whl.metadata (4.0 kB)\n",
      "Requirement already satisfied: attrs>=17.3.0 in c:\\users\\badel\\appdata\\local\\programs\\python\\python312\\lib\\site-packages (from aiohttp->datasets>=2.0.0->evaluate) (23.2.0)\n",
      "Collecting frozenlist>=1.1.1 (from aiohttp->datasets>=2.0.0->evaluate)\n",
      "  Downloading frozenlist-1.4.1-cp312-cp312-win_amd64.whl.metadata (12 kB)\n",
      "Collecting multidict<7.0,>=4.5 (from aiohttp->datasets>=2.0.0->evaluate)\n",
      "  Downloading multidict-6.0.5-cp312-cp312-win_amd64.whl.metadata (4.3 kB)\n",
      "Collecting yarl<2.0,>=1.0 (from aiohttp->datasets>=2.0.0->evaluate)\n",
      "  Downloading yarl-1.9.4-cp312-cp312-win_amd64.whl.metadata (32 kB)\n",
      "Requirement already satisfied: six>=1.5 in c:\\users\\badel\\appdata\\roaming\\python\\python312\\site-packages (from python-dateutil>=2.8.2->pandas->evaluate) (1.16.0)\n",
      "Downloading evaluate-0.4.2-py3-none-any.whl (84 kB)\n",
      "   ---------------------------------------- 0.0/84.1 kB ? eta -:--:--\n",
      "   ----------------------------- ---------- 61.4/84.1 kB ? eta -:--:--\n",
      "   ---------------------------------------- 84.1/84.1 kB 1.6 MB/s eta 0:00:00\n",
      "Downloading datasets-2.20.0-py3-none-any.whl (547 kB)\n",
      "   ---------------------------------------- 0.0/547.8 kB ? eta -:--:--\n",
      "   ---------- ----------------------------- 143.4/547.8 kB 8.9 MB/s eta 0:00:01\n",
      "   ----------------------------- ---------- 409.6/547.8 kB 5.1 MB/s eta 0:00:01\n",
      "   ---------------------------------------  542.7/547.8 kB 3.8 MB/s eta 0:00:01\n",
      "   ---------------------------------------- 547.8/547.8 kB 3.8 MB/s eta 0:00:00\n",
      "Downloading dill-0.3.8-py3-none-any.whl (116 kB)\n",
      "   ---------------------------------------- 0.0/116.3 kB ? eta -:--:--\n",
      "   ---------------------------------------- 116.3/116.3 kB 7.1 MB/s eta 0:00:00\n",
      "Using cached requests-2.32.3-py3-none-any.whl (64 kB)\n",
      "Downloading multiprocess-0.70.16-py312-none-any.whl (146 kB)\n",
      "   ---------------------------------------- 0.0/146.7 kB ? eta -:--:--\n",
      "   ---------------------------------------- 146.7/146.7 kB 8.5 MB/s eta 0:00:00\n",
      "Downloading aiohttp-3.9.5-cp312-cp312-win_amd64.whl (369 kB)\n",
      "   ---------------------------------------- 0.0/369.0 kB ? eta -:--:--\n",
      "   --------------------------------------- 369.0/369.0 kB 11.6 MB/s eta 0:00:00\n",
      "Downloading pyarrow-16.1.0-cp312-cp312-win_amd64.whl (25.8 MB)\n",
      "   ---------------------------------------- 0.0/25.8 MB ? eta -:--:--\n",
      "   ---------------------------------------- 0.2/25.8 MB 10.9 MB/s eta 0:00:03\n",
      "    --------------------------------------- 0.5/25.8 MB 6.4 MB/s eta 0:00:04\n",
      "   - -------------------------------------- 0.8/25.8 MB 6.1 MB/s eta 0:00:05\n",
      "   - -------------------------------------- 1.0/25.8 MB 5.6 MB/s eta 0:00:05\n",
      "   - -------------------------------------- 1.0/25.8 MB 5.3 MB/s eta 0:00:05\n",
      "   -- ------------------------------------- 1.4/25.8 MB 5.4 MB/s eta 0:00:05\n",
      "   -- ------------------------------------- 1.8/25.8 MB 5.7 MB/s eta 0:00:05\n",
      "   --- ------------------------------------ 2.1/25.8 MB 5.7 MB/s eta 0:00:05\n",
      "   --- ------------------------------------ 2.2/25.8 MB 5.4 MB/s eta 0:00:05\n",
      "   --- ------------------------------------ 2.5/25.8 MB 5.5 MB/s eta 0:00:05\n",
      "   ---- ----------------------------------- 2.7/25.8 MB 5.5 MB/s eta 0:00:05\n",
      "   ---- ----------------------------------- 3.0/25.8 MB 5.4 MB/s eta 0:00:05\n",
      "   ----- ---------------------------------- 3.2/25.8 MB 5.6 MB/s eta 0:00:05\n",
      "   ----- ---------------------------------- 3.4/25.8 MB 5.5 MB/s eta 0:00:05\n",
      "   ----- ---------------------------------- 3.7/25.8 MB 5.4 MB/s eta 0:00:05\n",
      "   ------ --------------------------------- 4.0/25.8 MB 5.5 MB/s eta 0:00:04\n",
      "   ------ --------------------------------- 4.2/25.8 MB 5.5 MB/s eta 0:00:04\n",
      "   ------- -------------------------------- 4.5/25.8 MB 5.6 MB/s eta 0:00:04\n",
      "   ------- -------------------------------- 4.8/25.8 MB 5.6 MB/s eta 0:00:04\n",
      "   ------- -------------------------------- 5.1/25.8 MB 5.6 MB/s eta 0:00:04\n",
      "   -------- ------------------------------- 5.4/25.8 MB 5.6 MB/s eta 0:00:04\n",
      "   -------- ------------------------------- 5.6/25.8 MB 5.6 MB/s eta 0:00:04\n",
      "   --------- ------------------------------ 5.9/25.8 MB 5.6 MB/s eta 0:00:04\n",
      "   --------- ------------------------------ 6.2/25.8 MB 5.7 MB/s eta 0:00:04\n",
      "   ---------- ----------------------------- 6.5/25.8 MB 5.7 MB/s eta 0:00:04\n",
      "   ---------- ----------------------------- 6.8/25.8 MB 5.7 MB/s eta 0:00:04\n",
      "   ---------- ----------------------------- 7.1/25.8 MB 5.7 MB/s eta 0:00:04\n",
      "   ----------- ---------------------------- 7.3/25.8 MB 5.8 MB/s eta 0:00:04\n",
      "   ----------- ---------------------------- 7.6/25.8 MB 5.8 MB/s eta 0:00:04\n",
      "   ------------ --------------------------- 7.9/25.8 MB 5.8 MB/s eta 0:00:04\n",
      "   ------------ --------------------------- 8.2/25.8 MB 5.8 MB/s eta 0:00:04\n",
      "   ------------- -------------------------- 8.5/25.8 MB 5.8 MB/s eta 0:00:03\n",
      "   ------------- -------------------------- 8.8/25.8 MB 5.8 MB/s eta 0:00:03\n",
      "   ------------- -------------------------- 9.0/25.8 MB 5.8 MB/s eta 0:00:03\n",
      "   -------------- ------------------------- 9.3/25.8 MB 5.8 MB/s eta 0:00:03\n",
      "   -------------- ------------------------- 9.6/25.8 MB 5.9 MB/s eta 0:00:03\n",
      "   --------------- ------------------------ 9.8/25.8 MB 5.8 MB/s eta 0:00:03\n",
      "   --------------- ------------------------ 9.8/25.8 MB 5.8 MB/s eta 0:00:03\n",
      "   --------------- ------------------------ 9.8/25.8 MB 5.8 MB/s eta 0:00:03\n",
      "   --------------- ------------------------ 9.8/25.8 MB 5.8 MB/s eta 0:00:03\n",
      "   --------------- ------------------------ 9.8/25.8 MB 5.8 MB/s eta 0:00:03\n",
      "   --------------- ------------------------ 9.9/25.8 MB 5.3 MB/s eta 0:00:04\n",
      "   --------------- ------------------------ 9.9/25.8 MB 5.3 MB/s eta 0:00:04\n",
      "   --------------- ------------------------ 9.9/25.8 MB 5.3 MB/s eta 0:00:04\n",
      "   ------------------ --------------------- 12.0/25.8 MB 5.9 MB/s eta 0:00:03\n",
      "   ------------------ --------------------- 12.1/25.8 MB 5.7 MB/s eta 0:00:03\n",
      "   ------------------ --------------------- 12.3/25.8 MB 5.6 MB/s eta 0:00:03\n",
      "   ------------------- -------------------- 12.6/25.8 MB 5.8 MB/s eta 0:00:03\n",
      "   -------------------- ------------------- 13.1/25.8 MB 6.0 MB/s eta 0:00:03\n",
      "   -------------------- ------------------- 13.4/25.8 MB 6.0 MB/s eta 0:00:03\n",
      "   --------------------- ------------------ 13.7/25.8 MB 6.1 MB/s eta 0:00:03\n",
      "   --------------------- ------------------ 14.0/25.8 MB 6.1 MB/s eta 0:00:02\n",
      "   ---------------------- ----------------- 14.3/25.8 MB 6.1 MB/s eta 0:00:02\n",
      "   ---------------------- ----------------- 14.5/25.8 MB 6.1 MB/s eta 0:00:02\n",
      "   ---------------------- ----------------- 14.8/25.8 MB 6.1 MB/s eta 0:00:02\n",
      "   ----------------------- ---------------- 15.1/25.8 MB 6.1 MB/s eta 0:00:02\n",
      "   ----------------------- ---------------- 15.4/25.8 MB 6.1 MB/s eta 0:00:02\n",
      "   ------------------------ --------------- 15.7/25.8 MB 6.1 MB/s eta 0:00:02\n",
      "   ------------------------ --------------- 15.9/25.8 MB 6.1 MB/s eta 0:00:02\n",
      "   ------------------------ --------------- 16.1/25.8 MB 6.0 MB/s eta 0:00:02\n",
      "   ------------------------ --------------- 16.1/25.8 MB 6.0 MB/s eta 0:00:02\n",
      "   ------------------------- -------------- 16.4/25.8 MB 5.8 MB/s eta 0:00:02\n",
      "   ------------------------- -------------- 16.7/25.8 MB 5.9 MB/s eta 0:00:02\n",
      "   -------------------------- ------------- 16.9/25.8 MB 5.8 MB/s eta 0:00:02\n",
      "   -------------------------- ------------- 17.2/25.8 MB 5.8 MB/s eta 0:00:02\n",
      "   -------------------------- ------------- 17.4/25.8 MB 5.7 MB/s eta 0:00:02\n",
      "   --------------------------- ------------ 17.6/25.8 MB 5.7 MB/s eta 0:00:02\n",
      "   --------------------------- ------------ 17.9/25.8 MB 5.7 MB/s eta 0:00:02\n",
      "   --------------------------- ------------ 17.9/25.8 MB 5.7 MB/s eta 0:00:02\n",
      "   ---------------------------- ----------- 18.2/25.8 MB 5.6 MB/s eta 0:00:02\n",
      "   ---------------------------- ----------- 18.5/25.8 MB 5.6 MB/s eta 0:00:02\n",
      "   ---------------------------- ----------- 18.7/25.8 MB 5.6 MB/s eta 0:00:02\n",
      "   ----------------------------- ---------- 19.0/25.8 MB 5.6 MB/s eta 0:00:02\n",
      "   ----------------------------- ---------- 19.2/25.8 MB 5.5 MB/s eta 0:00:02\n",
      "   ------------------------------ --------- 19.5/25.8 MB 5.5 MB/s eta 0:00:02\n",
      "   ------------------------------ --------- 19.7/25.8 MB 5.5 MB/s eta 0:00:02\n",
      "   ------------------------------ --------- 20.0/25.8 MB 5.5 MB/s eta 0:00:02\n",
      "   ------------------------------- -------- 20.2/25.8 MB 6.5 MB/s eta 0:00:01\n",
      "   ------------------------------- -------- 20.4/25.8 MB 6.4 MB/s eta 0:00:01\n",
      "   ------------------------------- -------- 20.6/25.8 MB 6.2 MB/s eta 0:00:01\n",
      "   -------------------------------- ------- 20.9/25.8 MB 6.0 MB/s eta 0:00:01\n",
      "   -------------------------------- ------- 21.1/25.8 MB 5.8 MB/s eta 0:00:01\n",
      "   --------------------------------- ------ 21.4/25.8 MB 5.7 MB/s eta 0:00:01\n",
      "   --------------------------------- ------ 21.7/25.8 MB 5.6 MB/s eta 0:00:01\n",
      "   ---------------------------------- ----- 22.0/25.8 MB 5.5 MB/s eta 0:00:01\n",
      "   ---------------------------------- ----- 22.3/25.8 MB 5.6 MB/s eta 0:00:01\n",
      "   ---------------------------------- ----- 22.6/25.8 MB 5.5 MB/s eta 0:00:01\n",
      "   ----------------------------------- ---- 22.9/25.8 MB 5.5 MB/s eta 0:00:01\n",
      "   ----------------------------------- ---- 23.1/25.8 MB 5.5 MB/s eta 0:00:01\n",
      "   ------------------------------------ --- 23.4/25.8 MB 5.4 MB/s eta 0:00:01\n",
      "   ------------------------------------ --- 23.7/25.8 MB 5.5 MB/s eta 0:00:01\n",
      "   ------------------------------------- -- 24.0/25.8 MB 5.5 MB/s eta 0:00:01\n",
      "   ------------------------------------- -- 24.3/25.8 MB 5.5 MB/s eta 0:00:01\n",
      "   ------------------------------------- -- 24.5/25.8 MB 5.5 MB/s eta 0:00:01\n",
      "   -------------------------------------- - 24.6/25.8 MB 5.4 MB/s eta 0:00:01\n",
      "   -------------------------------------- - 24.9/25.8 MB 5.4 MB/s eta 0:00:01\n",
      "   -------------------------------------- - 25.2/25.8 MB 5.4 MB/s eta 0:00:01\n",
      "   ---------------------------------------  25.4/25.8 MB 5.3 MB/s eta 0:00:01\n",
      "   ---------------------------------------  25.7/25.8 MB 5.3 MB/s eta 0:00:01\n",
      "   ---------------------------------------  25.8/25.8 MB 5.3 MB/s eta 0:00:01\n",
      "   ---------------------------------------- 25.8/25.8 MB 5.2 MB/s eta 0:00:00\n",
      "Downloading pyarrow_hotfix-0.6-py3-none-any.whl (7.9 kB)\n",
      "Downloading aiosignal-1.3.1-py3-none-any.whl (7.6 kB)\n",
      "Downloading frozenlist-1.4.1-cp312-cp312-win_amd64.whl (50 kB)\n",
      "   ---------------------------------------- 0.0/50.5 kB ? eta -:--:--\n",
      "   ---------------------------------------- 50.5/50.5 kB ? eta 0:00:00\n",
      "Downloading multidict-6.0.5-cp312-cp312-win_amd64.whl (27 kB)\n",
      "Downloading yarl-1.9.4-cp312-cp312-win_amd64.whl (76 kB)\n",
      "   ---------------------------------------- 0.0/76.4 kB ? eta -:--:--\n",
      "   ---------------------------------------- 76.4/76.4 kB ? eta 0:00:00\n",
      "Installing collected packages: requests, pyarrow-hotfix, pyarrow, multidict, frozenlist, dill, yarl, multiprocess, aiosignal, aiohttp, datasets, evaluate\n",
      "  Attempting uninstall: requests\n",
      "    Found existing installation: requests 2.31.0\n",
      "    Uninstalling requests-2.31.0:\n",
      "      Successfully uninstalled requests-2.31.0\n",
      "Successfully installed aiohttp-3.9.5 aiosignal-1.3.1 datasets-2.20.0 dill-0.3.8 evaluate-0.4.2 frozenlist-1.4.1 multidict-6.0.5 multiprocess-0.70.16 pyarrow-16.1.0 pyarrow-hotfix-0.6 requests-2.32.3 yarl-1.9.4\n"
     ]
    }
   ],
   "source": [
    "!pip install evaluate"
   ]
  },
  {
   "cell_type": "code",
   "execution_count": 2,
   "id": "cb4e9fc8-d4e2-49f0-86dd-f0719b2e5e23",
   "metadata": {},
   "outputs": [
    {
     "name": "stdout",
     "output_type": "stream",
     "text": [
      "^C\n"
     ]
    },
    {
     "name": "stdout",
     "output_type": "stream",
     "text": [
      "Looking in indexes: https://download.pytorch.org/whl/cpu\n",
      "Requirement already satisfied: torch in c:\\users\\badel\\appdata\\local\\programs\\python\\python312\\lib\\site-packages (2.3.0)\n",
      "Requirement already satisfied: torchvision in c:\\users\\badel\\appdata\\local\\programs\\python\\python312\\lib\\site-packages (0.18.0)\n",
      "Collecting torchaudio\n",
      "  Downloading https://download.pytorch.org/whl/cpu/torchaudio-2.3.1%2Bcpu-cp312-cp312-win_amd64.whl (2.3 MB)\n",
      "     ---------------------------------------- 0.0/2.3 MB ? eta -:--:--\n",
      "     - -------------------------------------- 0.1/2.3 MB 1.7 MB/s eta 0:00:02\n",
      "     -- ------------------------------------- 0.1/2.3 MB 1.7 MB/s eta 0:00:02\n",
      "     ---- ----------------------------------- 0.3/2.3 MB 2.4 MB/s eta 0:00:01\n",
      "     --------- ------------------------------ 0.5/2.3 MB 3.1 MB/s eta 0:00:01\n",
      "     ---------------- ----------------------- 1.0/2.3 MB 4.3 MB/s eta 0:00:01\n",
      "     ----------------------- ---------------- 1.4/2.3 MB 5.0 MB/s eta 0:00:01\n",
      "     ---------------------------- ----------- 1.7/2.3 MB 5.6 MB/s eta 0:00:01\n",
      "     --------------------------------- ------ 1.9/2.3 MB 5.4 MB/s eta 0:00:01\n",
      "     -------------------------------------- - 2.2/2.3 MB 5.7 MB/s eta 0:00:01\n",
      "     ---------------------------------------- 2.3/2.3 MB 5.5 MB/s eta 0:00:00\n",
      "Requirement already satisfied: filelock in c:\\users\\badel\\appdata\\local\\programs\\python\\python312\\lib\\site-packages (from torch) (3.14.0)\n",
      "Requirement already satisfied: typing-extensions>=4.8.0 in c:\\users\\badel\\appdata\\local\\programs\\python\\python312\\lib\\site-packages (from torch) (4.11.0)\n",
      "Requirement already satisfied: sympy in c:\\users\\badel\\appdata\\local\\programs\\python\\python312\\lib\\site-packages (from torch) (1.12)\n",
      "Requirement already satisfied: networkx in c:\\users\\badel\\appdata\\local\\programs\\python\\python312\\lib\\site-packages (from torch) (3.3)\n",
      "Requirement already satisfied: jinja2 in c:\\users\\badel\\appdata\\local\\programs\\python\\python312\\lib\\site-packages (from torch) (3.1.3)\n",
      "Requirement already satisfied: fsspec in c:\\users\\badel\\appdata\\local\\programs\\python\\python312\\lib\\site-packages (from torch) (2024.3.1)\n",
      "Requirement already satisfied: mkl<=2021.4.0,>=2021.1.1 in c:\\users\\badel\\appdata\\local\\programs\\python\\python312\\lib\\site-packages (from torch) (2021.4.0)\n",
      "Requirement already satisfied: numpy in c:\\users\\badel\\appdata\\local\\programs\\python\\python312\\lib\\site-packages (from torchvision) (1.26.4)\n",
      "Requirement already satisfied: pillow!=8.3.*,>=5.3.0 in c:\\users\\badel\\appdata\\local\\programs\\python\\python312\\lib\\site-packages (from torchvision) (10.3.0)\n",
      "INFO: pip is looking at multiple versions of torchaudio to determine which version is compatible with other requirements. This could take a while.\n",
      "  Downloading https://download.pytorch.org/whl/cpu/torchaudio-2.3.0%2Bcpu-cp312-cp312-win_amd64.whl (2.3 MB)\n",
      "     ---------------------------------------- 0.0/2.3 MB ? eta -:--:--\n",
      "     ---------------------------------------- 0.0/2.3 MB ? eta -:--:--\n",
      "     - -------------------------------------- 0.1/2.3 MB 812.7 kB/s eta 0:00:03\n",
      "     - -------------------------------------- 0.1/2.3 MB 812.7 kB/s eta 0:00:03\n",
      "     -- ------------------------------------- 0.1/2.3 MB 787.7 kB/s eta 0:00:03\n",
      "     -- ------------------------------------- 0.1/2.3 MB 787.7 kB/s eta 0:00:03\n",
      "     -- ------------------------------------- 0.1/2.3 MB 787.7 kB/s eta 0:00:03\n",
      "     ----- ---------------------------------- 0.3/2.3 MB 999.9 kB/s eta 0:00:03\n",
      "     --------- ------------------------------ 0.6/2.3 MB 1.6 MB/s eta 0:00:02\n",
      "     ---------- ----------------------------- 0.6/2.3 MB 1.8 MB/s eta 0:00:01\n",
      "     -------------- ------------------------- 0.8/2.3 MB 1.8 MB/s eta 0:00:01\n",
      "     ------------------- -------------------- 1.2/2.3 MB 2.4 MB/s eta 0:00:01\n",
      "     ------------------- -------------------- 1.2/2.3 MB 2.4 MB/s eta 0:00:01\n",
      "     ---------------------- ----------------- 1.3/2.3 MB 2.3 MB/s eta 0:00:01\n",
      "     -------------------------- ------------- 1.5/2.3 MB 2.5 MB/s eta 0:00:01\n",
      "     --------------------------------- ------ 2.0/2.3 MB 2.9 MB/s eta 0:00:01\n",
      "     ------------------------------------- -- 2.2/2.3 MB 3.1 MB/s eta 0:00:01\n",
      "     -------------------------------------- - 2.3/2.3 MB 2.9 MB/s eta 0:00:01\n",
      "     ---------------------------------------- 2.3/2.3 MB 2.9 MB/s eta 0:00:00\n",
      "Requirement already satisfied: intel-openmp==2021.* in c:\\users\\badel\\appdata\\local\\programs\\python\\python312\\lib\\site-packages (from mkl<=2021.4.0,>=2021.1.1->torch) (2021.4.0)\n",
      "Requirement already satisfied: tbb==2021.* in c:\\users\\badel\\appdata\\local\\programs\\python\\python312\\lib\\site-packages (from mkl<=2021.4.0,>=2021.1.1->torch) (2021.12.0)\n",
      "Requirement already satisfied: MarkupSafe>=2.0 in c:\\users\\badel\\appdata\\local\\programs\\python\\python312\\lib\\site-packages (from jinja2->torch) (2.1.5)\n",
      "Requirement already satisfied: mpmath>=0.19 in c:\\users\\badel\\appdata\\local\\programs\\python\\python312\\lib\\site-packages (from sympy->torch) (1.3.0)\n",
      "Installing collected packages: torchaudio\n",
      "Successfully installed torchaudio-2.3.0+cpu\n"
     ]
    }
   ],
   "source": [
    "!pip install torch torchvision torchaudio --index-url https://download.pytorch.org/whl/cpu"
   ]
  },
  {
   "cell_type": "code",
   "execution_count": 3,
   "id": "cb2d4183-b286-4791-be1a-5020b768da9f",
   "metadata": {},
   "outputs": [
    {
     "name": "stdout",
     "output_type": "stream",
     "text": [
      "Collecting accelerate\n",
      "  Downloading accelerate-0.32.1-py3-none-any.whl.metadata (18 kB)\n",
      "Requirement already satisfied: numpy<2.0.0,>=1.17 in c:\\users\\badel\\appdata\\local\\programs\\python\\python312\\lib\\site-packages (from accelerate) (1.26.4)\n",
      "Requirement already satisfied: packaging>=20.0 in c:\\users\\badel\\appdata\\roaming\\python\\python312\\site-packages (from accelerate) (24.0)\n",
      "Requirement already satisfied: psutil in c:\\users\\badel\\appdata\\roaming\\python\\python312\\site-packages (from accelerate) (5.9.8)\n",
      "Requirement already satisfied: pyyaml in c:\\users\\badel\\appdata\\local\\programs\\python\\python312\\lib\\site-packages (from accelerate) (6.0.1)\n",
      "Requirement already satisfied: torch>=1.10.0 in c:\\users\\badel\\appdata\\local\\programs\\python\\python312\\lib\\site-packages (from accelerate) (2.3.1+cu121)\n",
      "Requirement already satisfied: huggingface-hub in c:\\users\\badel\\appdata\\local\\programs\\python\\python312\\lib\\site-packages (from accelerate) (0.23.0)\n",
      "Requirement already satisfied: safetensors>=0.3.1 in c:\\users\\badel\\appdata\\local\\programs\\python\\python312\\lib\\site-packages (from accelerate) (0.4.3)\n",
      "Requirement already satisfied: filelock in c:\\users\\badel\\appdata\\local\\programs\\python\\python312\\lib\\site-packages (from torch>=1.10.0->accelerate) (3.14.0)\n",
      "Requirement already satisfied: typing-extensions>=4.8.0 in c:\\users\\badel\\appdata\\local\\programs\\python\\python312\\lib\\site-packages (from torch>=1.10.0->accelerate) (4.11.0)\n",
      "Requirement already satisfied: sympy in c:\\users\\badel\\appdata\\local\\programs\\python\\python312\\lib\\site-packages (from torch>=1.10.0->accelerate) (1.12)\n",
      "Requirement already satisfied: networkx in c:\\users\\badel\\appdata\\local\\programs\\python\\python312\\lib\\site-packages (from torch>=1.10.0->accelerate) (3.3)\n",
      "Requirement already satisfied: jinja2 in c:\\users\\badel\\appdata\\local\\programs\\python\\python312\\lib\\site-packages (from torch>=1.10.0->accelerate) (3.1.3)\n",
      "Requirement already satisfied: fsspec in c:\\users\\badel\\appdata\\local\\programs\\python\\python312\\lib\\site-packages (from torch>=1.10.0->accelerate) (2024.3.1)\n",
      "Requirement already satisfied: mkl<=2021.4.0,>=2021.1.1 in c:\\users\\badel\\appdata\\local\\programs\\python\\python312\\lib\\site-packages (from torch>=1.10.0->accelerate) (2021.4.0)\n",
      "Requirement already satisfied: requests in c:\\users\\badel\\appdata\\local\\programs\\python\\python312\\lib\\site-packages (from huggingface-hub->accelerate) (2.32.3)\n",
      "Requirement already satisfied: tqdm>=4.42.1 in c:\\users\\badel\\appdata\\local\\programs\\python\\python312\\lib\\site-packages (from huggingface-hub->accelerate) (4.66.4)\n",
      "Requirement already satisfied: intel-openmp==2021.* in c:\\users\\badel\\appdata\\local\\programs\\python\\python312\\lib\\site-packages (from mkl<=2021.4.0,>=2021.1.1->torch>=1.10.0->accelerate) (2021.4.0)\n",
      "Requirement already satisfied: tbb==2021.* in c:\\users\\badel\\appdata\\local\\programs\\python\\python312\\lib\\site-packages (from mkl<=2021.4.0,>=2021.1.1->torch>=1.10.0->accelerate) (2021.12.0)\n",
      "Requirement already satisfied: colorama in c:\\users\\badel\\appdata\\roaming\\python\\python312\\site-packages (from tqdm>=4.42.1->huggingface-hub->accelerate) (0.4.6)\n",
      "Requirement already satisfied: MarkupSafe>=2.0 in c:\\users\\badel\\appdata\\local\\programs\\python\\python312\\lib\\site-packages (from jinja2->torch>=1.10.0->accelerate) (2.1.5)\n",
      "Requirement already satisfied: charset-normalizer<4,>=2 in c:\\users\\badel\\appdata\\local\\programs\\python\\python312\\lib\\site-packages (from requests->huggingface-hub->accelerate) (3.3.2)\n",
      "Requirement already satisfied: idna<4,>=2.5 in c:\\users\\badel\\appdata\\local\\programs\\python\\python312\\lib\\site-packages (from requests->huggingface-hub->accelerate) (3.7)\n",
      "Requirement already satisfied: urllib3<3,>=1.21.1 in c:\\users\\badel\\appdata\\local\\programs\\python\\python312\\lib\\site-packages (from requests->huggingface-hub->accelerate) (2.2.1)\n",
      "Requirement already satisfied: certifi>=2017.4.17 in c:\\users\\badel\\appdata\\local\\programs\\python\\python312\\lib\\site-packages (from requests->huggingface-hub->accelerate) (2024.2.2)\n",
      "Requirement already satisfied: mpmath>=0.19 in c:\\users\\badel\\appdata\\local\\programs\\python\\python312\\lib\\site-packages (from sympy->torch>=1.10.0->accelerate) (1.3.0)\n",
      "Downloading accelerate-0.32.1-py3-none-any.whl (314 kB)\n",
      "   ---------------------------------------- 0.0/314.1 kB ? eta -:--:--\n",
      "   - -------------------------------------- 10.2/314.1 kB ? eta -:--:--\n",
      "   ---------- ----------------------------- 81.9/314.1 kB 1.1 MB/s eta 0:00:01\n",
      "   --------------- ------------------------ 122.9/314.1 kB 1.0 MB/s eta 0:00:01\n",
      "   ------------------------------- -------- 245.8/314.1 kB 1.5 MB/s eta 0:00:01\n",
      "   ---------------------------------------- 314.1/314.1 kB 1.5 MB/s eta 0:00:00\n",
      "Installing collected packages: accelerate\n",
      "Successfully installed accelerate-0.32.1\n"
     ]
    }
   ],
   "source": [
    "!pip install accelerate -U"
   ]
  },
  {
   "cell_type": "code",
   "execution_count": 16,
   "id": "23a11649-6d8b-40ac-bf3b-c8a3501f4a41",
   "metadata": {},
   "outputs": [
    {
     "name": "stdout",
     "output_type": "stream",
     "text": [
      "^C\n"
     ]
    },
    {
     "name": "stdout",
     "output_type": "stream",
     "text": [
      "Requirement already satisfied: transformers in c:\\users\\badel\\appdata\\local\\programs\\python\\python312\\lib\\site-packages (4.40.2)\n",
      "Collecting transformers\n",
      "  Downloading transformers-4.42.3-py3-none-any.whl.metadata (43 kB)\n",
      "     ---------------------------------------- 0.0/43.6 kB ? eta -:--:--\n",
      "     ------------------------------------- -- 41.0/43.6 kB 2.0 MB/s eta 0:00:01\n",
      "     -------------------------------------- 43.6/43.6 kB 538.5 kB/s eta 0:00:00\n",
      "Requirement already satisfied: filelock in c:\\users\\badel\\appdata\\local\\programs\\python\\python312\\lib\\site-packages (from transformers) (3.14.0)\n",
      "Collecting huggingface-hub<1.0,>=0.23.2 (from transformers)\n",
      "  Downloading huggingface_hub-0.23.4-py3-none-any.whl.metadata (12 kB)\n",
      "Requirement already satisfied: numpy<2.0,>=1.17 in c:\\users\\badel\\appdata\\local\\programs\\python\\python312\\lib\\site-packages (from transformers) (1.26.4)\n",
      "Requirement already satisfied: packaging>=20.0 in c:\\users\\badel\\appdata\\roaming\\python\\python312\\site-packages (from transformers) (24.0)\n",
      "Requirement already satisfied: pyyaml>=5.1 in c:\\users\\badel\\appdata\\local\\programs\\python\\python312\\lib\\site-packages (from transformers) (6.0.1)\n",
      "Requirement already satisfied: regex!=2019.12.17 in c:\\users\\badel\\appdata\\local\\programs\\python\\python312\\lib\\site-packages (from transformers) (2024.5.10)\n",
      "Requirement already satisfied: requests in c:\\users\\badel\\appdata\\local\\programs\\python\\python312\\lib\\site-packages (from transformers) (2.32.3)\n",
      "Requirement already satisfied: safetensors>=0.4.1 in c:\\users\\badel\\appdata\\local\\programs\\python\\python312\\lib\\site-packages (from transformers) (0.4.3)\n",
      "Requirement already satisfied: tokenizers<0.20,>=0.19 in c:\\users\\badel\\appdata\\local\\programs\\python\\python312\\lib\\site-packages (from transformers) (0.19.1)\n",
      "Requirement already satisfied: tqdm>=4.27 in c:\\users\\badel\\appdata\\local\\programs\\python\\python312\\lib\\site-packages (from transformers) (4.66.4)\n",
      "Requirement already satisfied: fsspec>=2023.5.0 in c:\\users\\badel\\appdata\\local\\programs\\python\\python312\\lib\\site-packages (from huggingface-hub<1.0,>=0.23.2->transformers) (2024.3.1)\n",
      "Requirement already satisfied: typing-extensions>=3.7.4.3 in c:\\users\\badel\\appdata\\local\\programs\\python\\python312\\lib\\site-packages (from huggingface-hub<1.0,>=0.23.2->transformers) (4.11.0)\n",
      "Requirement already satisfied: colorama in c:\\users\\badel\\appdata\\roaming\\python\\python312\\site-packages (from tqdm>=4.27->transformers) (0.4.6)\n",
      "Requirement already satisfied: charset-normalizer<4,>=2 in c:\\users\\badel\\appdata\\local\\programs\\python\\python312\\lib\\site-packages (from requests->transformers) (3.3.2)\n",
      "Requirement already satisfied: idna<4,>=2.5 in c:\\users\\badel\\appdata\\local\\programs\\python\\python312\\lib\\site-packages (from requests->transformers) (3.7)\n",
      "Requirement already satisfied: urllib3<3,>=1.21.1 in c:\\users\\badel\\appdata\\local\\programs\\python\\python312\\lib\\site-packages (from requests->transformers) (2.2.1)\n",
      "Requirement already satisfied: certifi>=2017.4.17 in c:\\users\\badel\\appdata\\local\\programs\\python\\python312\\lib\\site-packages (from requests->transformers) (2024.2.2)\n",
      "Downloading transformers-4.42.3-py3-none-any.whl (9.3 MB)\n",
      "   ---------------------------------------- 0.0/9.3 MB ? eta -:--:--\n",
      "   ---------------------------------------- 0.1/9.3 MB 4.5 MB/s eta 0:00:03\n",
      "    --------------------------------------- 0.2/9.3 MB 2.5 MB/s eta 0:00:04\n",
      "   - -------------------------------------- 0.3/9.3 MB 2.9 MB/s eta 0:00:04\n",
      "   - -------------------------------------- 0.5/9.3 MB 2.6 MB/s eta 0:00:04\n",
      "   --- ------------------------------------ 0.7/9.3 MB 3.4 MB/s eta 0:00:03\n",
      "   ---- ----------------------------------- 1.0/9.3 MB 3.8 MB/s eta 0:00:03\n",
      "   ----- ---------------------------------- 1.3/9.3 MB 4.1 MB/s eta 0:00:02\n",
      "   ------ --------------------------------- 1.5/9.3 MB 4.0 MB/s eta 0:00:02\n",
      "   ------ --------------------------------- 1.6/9.3 MB 3.9 MB/s eta 0:00:02\n",
      "   ------- -------------------------------- 1.8/9.3 MB 3.9 MB/s eta 0:00:02\n",
      "   -------- ------------------------------- 1.9/9.3 MB 3.8 MB/s eta 0:00:02\n",
      "   -------- ------------------------------- 2.1/9.3 MB 3.8 MB/s eta 0:00:02\n",
      "   --------- ------------------------------ 2.1/9.3 MB 3.8 MB/s eta 0:00:02\n",
      "   ---------- ----------------------------- 2.4/9.3 MB 3.8 MB/s eta 0:00:02\n",
      "   ---------- ----------------------------- 2.4/9.3 MB 3.8 MB/s eta 0:00:02\n",
      "   ----------- ---------------------------- 2.6/9.3 MB 3.6 MB/s eta 0:00:02\n",
      "   ------------ --------------------------- 2.9/9.3 MB 3.7 MB/s eta 0:00:02\n",
      "   --------------- ------------------------ 3.6/9.3 MB 4.3 MB/s eta 0:00:02\n",
      "   ---------------- ----------------------- 3.9/9.3 MB 4.4 MB/s eta 0:00:02\n",
      "   ------------------ --------------------- 4.2/9.3 MB 4.6 MB/s eta 0:00:02\n",
      "   ------------------- -------------------- 4.5/9.3 MB 4.7 MB/s eta 0:00:02\n",
      "   --------------------- ------------------ 4.9/9.3 MB 4.8 MB/s eta 0:00:01\n",
      "   ---------------------- ----------------- 5.3/9.3 MB 5.0 MB/s eta 0:00:01\n",
      "   ------------------------ --------------- 5.6/9.3 MB 5.0 MB/s eta 0:00:01\n",
      "   ------------------------- -------------- 5.9/9.3 MB 5.1 MB/s eta 0:00:01\n",
      "   -------------------------- ------------- 6.1/9.3 MB 5.1 MB/s eta 0:00:01\n",
      "   --------------------------- ------------ 6.5/9.3 MB 5.2 MB/s eta 0:00:01\n",
      "   ---------------------------- ----------- 6.7/9.3 MB 5.2 MB/s eta 0:00:01\n",
      "   ------------------------------ --------- 7.0/9.3 MB 5.2 MB/s eta 0:00:01\n",
      "   ------------------------------ --------- 7.2/9.3 MB 5.3 MB/s eta 0:00:01\n",
      "   ------------------------------- -------- 7.4/9.3 MB 5.2 MB/s eta 0:00:01\n",
      "   --------------------------------- ------ 7.7/9.3 MB 5.2 MB/s eta 0:00:01\n",
      "   ---------------------------------- ----- 8.1/9.3 MB 5.3 MB/s eta 0:00:01\n",
      "   ----------------------------------- ---- 8.4/9.3 MB 5.3 MB/s eta 0:00:01\n",
      "   ------------------------------------ --- 8.6/9.3 MB 5.3 MB/s eta 0:00:01\n",
      "   -------------------------------------- - 8.9/9.3 MB 5.4 MB/s eta 0:00:01\n",
      "   ---------------------------------------  9.2/9.3 MB 5.4 MB/s eta 0:00:01\n",
      "   ---------------------------------------- 9.3/9.3 MB 5.3 MB/s eta 0:00:00\n",
      "Downloading huggingface_hub-0.23.4-py3-none-any.whl (402 kB)\n",
      "   ---------------------------------------- 0.0/402.6 kB ? eta -:--:--\n",
      "   ------------------- -------------------- 194.6/402.6 kB 5.9 MB/s eta 0:00:01\n",
      "   ---------------------------------------- 402.6/402.6 kB 6.3 MB/s eta 0:00:00\n",
      "Installing collected packages: huggingface-hub, transformers\n",
      "  Attempting uninstall: huggingface-hub\n",
      "    Found existing installation: huggingface-hub 0.23.0\n",
      "    Uninstalling huggingface-hub-0.23.0:\n",
      "      Successfully uninstalled huggingface-hub-0.23.0\n",
      "  Attempting uninstall: transformers\n",
      "    Found existing installation: transformers 4.40.2\n",
      "    Uninstalling transformers-4.40.2:\n",
      "      Successfully uninstalled transformers-4.40.2\n",
      "Successfully installed huggingface-hub-0.23.4 transformers-4.42.3\n"
     ]
    }
   ],
   "source": [
    "!pip install transformers --upgrade"
   ]
  },
  {
   "cell_type": "code",
   "execution_count": 1,
   "id": "f3b2f77f-d041-4cdf-bafe-5ae69f8120f3",
   "metadata": {},
   "outputs": [],
   "source": [
    "import pandas as pd \n",
    "from transformers import AutoTokenizer, AutoModelForSequenceClassification, TrainingArguments, Trainer\n",
    "from datasets import Dataset"
   ]
  },
  {
   "cell_type": "code",
   "execution_count": 2,
   "id": "66921a91-f18d-4ff2-9d64-90d397bfc3b9",
   "metadata": {},
   "outputs": [],
   "source": [
    "df = pd.read_csv(\"Amazon_dataset.csv\")"
   ]
  },
  {
   "cell_type": "code",
   "execution_count": 3,
   "id": "9038ab08-396e-447c-aca1-df1ac4799a3c",
   "metadata": {},
   "outputs": [
    {
     "data": {
      "text/html": [
       "<div>\n",
       "<style scoped>\n",
       "    .dataframe tbody tr th:only-of-type {\n",
       "        vertical-align: middle;\n",
       "    }\n",
       "\n",
       "    .dataframe tbody tr th {\n",
       "        vertical-align: top;\n",
       "    }\n",
       "\n",
       "    .dataframe thead th {\n",
       "        text-align: right;\n",
       "    }\n",
       "</style>\n",
       "<table border=\"1\" class=\"dataframe\">\n",
       "  <thead>\n",
       "    <tr style=\"text-align: right;\">\n",
       "      <th></th>\n",
       "      <th>Unnamed: 0</th>\n",
       "      <th>label</th>\n",
       "      <th>review_body</th>\n",
       "    </tr>\n",
       "  </thead>\n",
       "  <tbody>\n",
       "    <tr>\n",
       "      <th>0</th>\n",
       "      <td>83473</td>\n",
       "      <td>4</td>\n",
       "      <td>Thus far I 100% prefer Microsoft's cloud based...</td>\n",
       "    </tr>\n",
       "    <tr>\n",
       "      <th>1</th>\n",
       "      <td>82683</td>\n",
       "      <td>3</td>\n",
       "      <td>I'm actually quite happy with this. I bought i...</td>\n",
       "    </tr>\n",
       "    <tr>\n",
       "      <th>2</th>\n",
       "      <td>28419</td>\n",
       "      <td>0</td>\n",
       "      <td>Like many I was a happy TurboTax user for many...</td>\n",
       "    </tr>\n",
       "    <tr>\n",
       "      <th>3</th>\n",
       "      <td>11477</td>\n",
       "      <td>2</td>\n",
       "      <td>Removed this from my computer. It did what I w...</td>\n",
       "    </tr>\n",
       "    <tr>\n",
       "      <th>4</th>\n",
       "      <td>11366</td>\n",
       "      <td>2</td>\n",
       "      <td>Seems to get the job down. But I have never tr...</td>\n",
       "    </tr>\n",
       "  </tbody>\n",
       "</table>\n",
       "</div>"
      ],
      "text/plain": [
       "   Unnamed: 0  label                                        review_body\n",
       "0       83473      4  Thus far I 100% prefer Microsoft's cloud based...\n",
       "1       82683      3  I'm actually quite happy with this. I bought i...\n",
       "2       28419      0  Like many I was a happy TurboTax user for many...\n",
       "3       11477      2  Removed this from my computer. It did what I w...\n",
       "4       11366      2  Seems to get the job down. But I have never tr..."
      ]
     },
     "execution_count": 3,
     "metadata": {},
     "output_type": "execute_result"
    }
   ],
   "source": [
    "df.head()"
   ]
  },
  {
   "cell_type": "code",
   "execution_count": 4,
   "id": "c9a510ba-8e99-4d0d-84ee-e456a88515b2",
   "metadata": {},
   "outputs": [
    {
     "data": {
      "text/plain": [
       "(25000, 3)"
      ]
     },
     "execution_count": 4,
     "metadata": {},
     "output_type": "execute_result"
    }
   ],
   "source": [
    "df.shape"
   ]
  },
  {
   "cell_type": "code",
   "execution_count": 5,
   "id": "e1def70e-2156-4fa8-8956-af33a7ec95f0",
   "metadata": {},
   "outputs": [],
   "source": [
    "df_train = df.head(20000)"
   ]
  },
  {
   "cell_type": "code",
   "execution_count": 6,
   "id": "36415a89-2946-463e-a24b-7dd51b4301c2",
   "metadata": {},
   "outputs": [],
   "source": [
    "df_test = df.tail(5000)"
   ]
  },
  {
   "cell_type": "code",
   "execution_count": 7,
   "id": "f906b792-8ccb-4467-a34a-c6cb7c800ade",
   "metadata": {},
   "outputs": [],
   "source": [
    "train_dataset = Dataset.from_pandas(df_train)\n",
    "test_dataset = Dataset.from_pandas(df_test)"
   ]
  },
  {
   "cell_type": "code",
   "execution_count": 8,
   "id": "384c984a-5372-41a9-9503-062c4d9231dc",
   "metadata": {},
   "outputs": [
    {
     "data": {
      "text/plain": [
       "array([4, 1, 2, 0, 3], dtype=int64)"
      ]
     },
     "execution_count": 8,
     "metadata": {},
     "output_type": "execute_result"
    }
   ],
   "source": [
    "df_test.label.unique()"
   ]
  },
  {
   "cell_type": "code",
   "execution_count": 9,
   "id": "41e9cb31-6ead-49cb-aa5d-33c132e6677b",
   "metadata": {},
   "outputs": [
    {
     "name": "stderr",
     "output_type": "stream",
     "text": [
      "Some weights of BertForSequenceClassification were not initialized from the model checkpoint at bert and are newly initialized: ['classifier.bias', 'classifier.weight']\n",
      "You should probably TRAIN this model on a down-stream task to be able to use it for predictions and inference.\n"
     ]
    },
    {
     "data": {
      "text/plain": [
       "BertForSequenceClassification(\n",
       "  (bert): BertModel(\n",
       "    (embeddings): BertEmbeddings(\n",
       "      (word_embeddings): Embedding(28996, 768, padding_idx=0)\n",
       "      (position_embeddings): Embedding(512, 768)\n",
       "      (token_type_embeddings): Embedding(2, 768)\n",
       "      (LayerNorm): LayerNorm((768,), eps=1e-12, elementwise_affine=True)\n",
       "      (dropout): Dropout(p=0.1, inplace=False)\n",
       "    )\n",
       "    (encoder): BertEncoder(\n",
       "      (layer): ModuleList(\n",
       "        (0-11): 12 x BertLayer(\n",
       "          (attention): BertAttention(\n",
       "            (self): BertSdpaSelfAttention(\n",
       "              (query): Linear(in_features=768, out_features=768, bias=True)\n",
       "              (key): Linear(in_features=768, out_features=768, bias=True)\n",
       "              (value): Linear(in_features=768, out_features=768, bias=True)\n",
       "              (dropout): Dropout(p=0.1, inplace=False)\n",
       "            )\n",
       "            (output): BertSelfOutput(\n",
       "              (dense): Linear(in_features=768, out_features=768, bias=True)\n",
       "              (LayerNorm): LayerNorm((768,), eps=1e-12, elementwise_affine=True)\n",
       "              (dropout): Dropout(p=0.1, inplace=False)\n",
       "            )\n",
       "          )\n",
       "          (intermediate): BertIntermediate(\n",
       "            (dense): Linear(in_features=768, out_features=3072, bias=True)\n",
       "            (intermediate_act_fn): GELUActivation()\n",
       "          )\n",
       "          (output): BertOutput(\n",
       "            (dense): Linear(in_features=3072, out_features=768, bias=True)\n",
       "            (LayerNorm): LayerNorm((768,), eps=1e-12, elementwise_affine=True)\n",
       "            (dropout): Dropout(p=0.1, inplace=False)\n",
       "          )\n",
       "        )\n",
       "      )\n",
       "    )\n",
       "    (pooler): BertPooler(\n",
       "      (dense): Linear(in_features=768, out_features=768, bias=True)\n",
       "      (activation): Tanh()\n",
       "    )\n",
       "  )\n",
       "  (dropout): Dropout(p=0.1, inplace=False)\n",
       "  (classifier): Linear(in_features=768, out_features=5, bias=True)\n",
       ")"
      ]
     },
     "execution_count": 9,
     "metadata": {},
     "output_type": "execute_result"
    }
   ],
   "source": [
    "model = AutoModelForSequenceClassification.from_pretrained(\"bert\", num_labels=5)\n",
    "tokenizer = AutoTokenizer.from_pretrained(\"bert\")\n",
    "model.to(\"cuda\")"
   ]
  },
  {
   "cell_type": "code",
   "execution_count": 10,
   "id": "a8710e5f-463c-4862-b1a6-c104391a1efb",
   "metadata": {},
   "outputs": [
    {
     "name": "stdout",
     "output_type": "stream",
     "text": [
      "<class 'pandas.core.frame.DataFrame'>\n",
      "RangeIndex: 20000 entries, 0 to 19999\n",
      "Data columns (total 3 columns):\n",
      " #   Column       Non-Null Count  Dtype \n",
      "---  ------       --------------  ----- \n",
      " 0   Unnamed: 0   20000 non-null  int64 \n",
      " 1   label        20000 non-null  int64 \n",
      " 2   review_body  20000 non-null  object\n",
      "dtypes: int64(2), object(1)\n",
      "memory usage: 468.9+ KB\n"
     ]
    }
   ],
   "source": [
    "df_train.info()"
   ]
  },
  {
   "cell_type": "code",
   "execution_count": 11,
   "id": "211ad03f-1983-4256-bd90-0313ddda7edc",
   "metadata": {},
   "outputs": [
    {
     "data": {
      "application/vnd.jupyter.widget-view+json": {
       "model_id": "c7e32ce375a34954ad334b0f4bcf8720",
       "version_major": 2,
       "version_minor": 0
      },
      "text/plain": [
       "Map:   0%|          | 0/20000 [00:00<?, ? examples/s]"
      ]
     },
     "metadata": {},
     "output_type": "display_data"
    },
    {
     "data": {
      "application/vnd.jupyter.widget-view+json": {
       "model_id": "15992180ed134428ad6a82c8e1cc4870",
       "version_major": 2,
       "version_minor": 0
      },
      "text/plain": [
       "Map:   0%|          | 0/5000 [00:00<?, ? examples/s]"
      ]
     },
     "metadata": {},
     "output_type": "display_data"
    }
   ],
   "source": [
    "def tokenize_function(examples):\n",
    "    return tokenizer(examples['review_body'], padding=\"max_length\", truncation=True)\n",
    "\n",
    "# Tokenize the datasets\n",
    "tokenized_train_dataset = train_dataset.map(tokenize_function, batched=True)\n",
    "tokenized_test_dataset = test_dataset.map(tokenize_function, batched=True)"
   ]
  },
  {
   "cell_type": "code",
   "execution_count": 12,
   "id": "499651d3-3124-4e58-ae27-11786623c274",
   "metadata": {},
   "outputs": [],
   "source": [
    "import numpy as np\n",
    "import evaluate\n",
    "\n",
    "metric = evaluate.load(\"accuracy\")"
   ]
  },
  {
   "cell_type": "code",
   "execution_count": 13,
   "id": "0c215fe8-11bf-4514-bbe3-a5402313bd20",
   "metadata": {},
   "outputs": [],
   "source": [
    "def compute_metrics(eval_pred):\n",
    "    logits, labels = eval_pred\n",
    "    predictions = np.argmax(logits, axis=-1)\n",
    "    return metric.compute(predictions=predictions, references=labels)"
   ]
  },
  {
   "cell_type": "code",
   "execution_count": 14,
   "id": "86735180-6c3e-41e7-b58a-2aa35eba4e27",
   "metadata": {},
   "outputs": [],
   "source": [
    "training_args = TrainingArguments(output_dir=\"test_trainer\", eval_strategy=\"epoch\")"
   ]
  },
  {
   "cell_type": "code",
   "execution_count": 15,
   "id": "1f605c52-4ad1-49cd-b96f-b1dd3568437d",
   "metadata": {},
   "outputs": [],
   "source": [
    "trainer = Trainer(\n",
    "    model=model,\n",
    "    args=training_args,\n",
    "    train_dataset=tokenized_train_dataset,\n",
    "    eval_dataset=tokenized_test_dataset,\n",
    "    compute_metrics=compute_metrics,\n",
    ")"
   ]
  },
  {
   "cell_type": "code",
   "execution_count": 16,
   "id": "0e761e11-9eb9-4ebc-abe4-72a19136a5b0",
   "metadata": {},
   "outputs": [
    {
     "data": {
      "application/vnd.jupyter.widget-view+json": {
       "model_id": "18bb01fb5c054902ae6f00241314e263",
       "version_major": 2,
       "version_minor": 0
      },
      "text/plain": [
       "  0%|          | 0/7500 [00:00<?, ?it/s]"
      ]
     },
     "metadata": {},
     "output_type": "display_data"
    },
    {
     "name": "stderr",
     "output_type": "stream",
     "text": [
      "c:\\Users\\badel\\AppData\\Local\\Programs\\Python\\Python312\\Lib\\site-packages\\transformers\\models\\bert\\modeling_bert.py:439: UserWarning: 1Torch was not compiled with flash attention. (Triggered internally at ..\\aten\\src\\ATen\\native\\transformers\\cuda\\sdp_utils.cpp:455.)\n",
      "  attn_output = torch.nn.functional.scaled_dot_product_attention(\n"
     ]
    },
    {
     "name": "stdout",
     "output_type": "stream",
     "text": [
      "{'loss': 1.0774, 'grad_norm': 6.828371047973633, 'learning_rate': 4.666666666666667e-05, 'epoch': 0.2}\n",
      "{'loss': 0.9288, 'grad_norm': 17.30264663696289, 'learning_rate': 4.3333333333333334e-05, 'epoch': 0.4}\n",
      "{'loss': 0.8851, 'grad_norm': 6.24268102645874, 'learning_rate': 4e-05, 'epoch': 0.6}\n",
      "{'loss': 0.8496, 'grad_norm': 9.47524356842041, 'learning_rate': 3.6666666666666666e-05, 'epoch': 0.8}\n",
      "{'loss': 0.8316, 'grad_norm': 14.560896873474121, 'learning_rate': 3.3333333333333335e-05, 'epoch': 1.0}\n"
     ]
    },
    {
     "data": {
      "application/vnd.jupyter.widget-view+json": {
       "model_id": "18a7baae5f0c4612bd105b3b8ba1141c",
       "version_major": 2,
       "version_minor": 0
      },
      "text/plain": [
       "  0%|          | 0/625 [00:00<?, ?it/s]"
      ]
     },
     "metadata": {},
     "output_type": "display_data"
    },
    {
     "name": "stdout",
     "output_type": "stream",
     "text": [
      "{'eval_loss': 0.8477028608322144, 'eval_accuracy': 0.6908, 'eval_runtime': 93.7284, 'eval_samples_per_second': 53.346, 'eval_steps_per_second': 6.668, 'epoch': 1.0}\n",
      "{'loss': 0.7041, 'grad_norm': 13.436656951904297, 'learning_rate': 3e-05, 'epoch': 1.2}\n",
      "{'loss': 0.6933, 'grad_norm': 24.02052879333496, 'learning_rate': 2.6666666666666667e-05, 'epoch': 1.4}\n",
      "{'loss': 0.6781, 'grad_norm': 14.257323265075684, 'learning_rate': 2.3333333333333336e-05, 'epoch': 1.6}\n",
      "{'loss': 0.6656, 'grad_norm': 10.550041198730469, 'learning_rate': 2e-05, 'epoch': 1.8}\n",
      "{'loss': 0.6481, 'grad_norm': 8.291471481323242, 'learning_rate': 1.6666666666666667e-05, 'epoch': 2.0}\n"
     ]
    },
    {
     "data": {
      "application/vnd.jupyter.widget-view+json": {
       "model_id": "518806be88b04680bb1b5bda73bb3a73",
       "version_major": 2,
       "version_minor": 0
      },
      "text/plain": [
       "  0%|          | 0/625 [00:00<?, ?it/s]"
      ]
     },
     "metadata": {},
     "output_type": "display_data"
    },
    {
     "name": "stdout",
     "output_type": "stream",
     "text": [
      "{'eval_loss': 0.8194841742515564, 'eval_accuracy': 0.6994, 'eval_runtime': 90.3307, 'eval_samples_per_second': 55.352, 'eval_steps_per_second': 6.919, 'epoch': 2.0}\n",
      "{'loss': 0.4739, 'grad_norm': 15.334426879882812, 'learning_rate': 1.3333333333333333e-05, 'epoch': 2.2}\n",
      "{'loss': 0.4563, 'grad_norm': 12.762243270874023, 'learning_rate': 1e-05, 'epoch': 2.4}\n",
      "{'loss': 0.462, 'grad_norm': 43.07035446166992, 'learning_rate': 6.666666666666667e-06, 'epoch': 2.6}\n",
      "{'loss': 0.4614, 'grad_norm': 6.326766014099121, 'learning_rate': 3.3333333333333333e-06, 'epoch': 2.8}\n",
      "{'loss': 0.4656, 'grad_norm': 35.76250457763672, 'learning_rate': 0.0, 'epoch': 3.0}\n"
     ]
    },
    {
     "data": {
      "application/vnd.jupyter.widget-view+json": {
       "model_id": "a60432059244451db7916909c7e5e696",
       "version_major": 2,
       "version_minor": 0
      },
      "text/plain": [
       "  0%|          | 0/625 [00:00<?, ?it/s]"
      ]
     },
     "metadata": {},
     "output_type": "display_data"
    },
    {
     "name": "stdout",
     "output_type": "stream",
     "text": [
      "{'eval_loss': 0.9577070474624634, 'eval_accuracy': 0.6966, 'eval_runtime': 93.4797, 'eval_samples_per_second': 53.488, 'eval_steps_per_second': 6.686, 'epoch': 3.0}\n",
      "{'train_runtime': 4065.9282, 'train_samples_per_second': 14.757, 'train_steps_per_second': 1.845, 'train_loss': 0.6854021586100261, 'epoch': 3.0}\n"
     ]
    },
    {
     "data": {
      "text/plain": [
       "TrainOutput(global_step=7500, training_loss=0.6854021586100261, metrics={'train_runtime': 4065.9282, 'train_samples_per_second': 14.757, 'train_steps_per_second': 1.845, 'total_flos': 1.578708854784e+16, 'train_loss': 0.6854021586100261, 'epoch': 3.0})"
      ]
     },
     "execution_count": 16,
     "metadata": {},
     "output_type": "execute_result"
    }
   ],
   "source": [
    "trainer.train()"
   ]
  },
  {
   "cell_type": "code",
   "execution_count": 17,
   "id": "f3f142ba-4fe2-4c0f-bbfc-bda20af0322c",
   "metadata": {},
   "outputs": [
    {
     "data": {
      "text/plain": [
       "('./saved_model\\\\tokenizer_config.json',\n",
       " './saved_model\\\\special_tokens_map.json',\n",
       " './saved_model\\\\vocab.txt',\n",
       " './saved_model\\\\added_tokens.json',\n",
       " './saved_model\\\\tokenizer.json')"
      ]
     },
     "execution_count": 17,
     "metadata": {},
     "output_type": "execute_result"
    }
   ],
   "source": [
    "# Save the model and tokenizer\n",
    "model.save_pretrained('./saved_model')\n",
    "tokenizer.save_pretrained('./saved_model')"
   ]
  }
 ],
 "metadata": {
  "kernelspec": {
   "display_name": "Python 3 (ipykernel)",
   "language": "python",
   "name": "python3"
  },
  "language_info": {
   "codemirror_mode": {
    "name": "ipython",
    "version": 3
   },
   "file_extension": ".py",
   "mimetype": "text/x-python",
   "name": "python",
   "nbconvert_exporter": "python",
   "pygments_lexer": "ipython3",
   "version": "3.12.3"
  }
 },
 "nbformat": 4,
 "nbformat_minor": 5
}
